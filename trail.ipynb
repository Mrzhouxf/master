{
 "cells": [
  {
   "cell_type": "markdown",
   "metadata": {},
   "source": [
    "## leetcode"
   ]
  },
  {
   "cell_type": "code",
   "execution_count": null,
   "metadata": {},
   "outputs": [
    {
     "name": "stdout",
     "output_type": "stream",
     "text": [
      "大端: 0x12345678 -> 小端: 0x78563412\n"
     ]
    }
   ],
   "source": [
    "import struct\n",
    "\n",
    "def big_endian_to_little_endian(big_endian_num):\n",
    "    # 将整数转换为字节，使用'>I'格式符表示大端无符号整数\n",
    "    big_endian_bytes = struct.pack('>I', big_endian_num)\n",
    "    # 将字节解包为整数，使用'I'格式符表示小端无符号整数\n",
    "    little_endian_num = struct.unpack('I', big_endian_bytes)[0]\n",
    "    return little_endian_num\n",
    "\n",
    "# 示例\n",
    "big_endian_num = 0x12345678  # 大端整数\n",
    "little_endian_num = big_endian_to_little_endian(big_endian_num)\n",
    "print(f'大端: {hex(big_endian_num)} -> 小端: {hex(little_endian_num)}')\n"
   ]
  },
  {
   "cell_type": "code",
   "execution_count": null,
   "metadata": {},
   "outputs": [
    {
     "name": "stdout",
     "output_type": "stream",
     "text": [
      "大端: 0x12345678 -> 小端: 0x78563412\n"
     ]
    }
   ],
   "source": [
    "def big_endian_to_little_endian(big_endian_num):\n",
    "    # 将整数转换为字节\n",
    "    big_endian_bytes = big_endian_num.to_bytes(4, 'big')\n",
    "    # 反转字节序\n",
    "    little_endian_bytes = big_endian_bytes[::-1]\n",
    "    # 将字节解包为整数\n",
    "    little_endian_num = int.from_bytes(little_endian_bytes, 'big')\n",
    "    return little_endian_num\n",
    "\n",
    "# 示例\n",
    "big_endian_num = 0x12345678  # 大端整数\n",
    "little_endian_num = big_endian_to_little_endian(big_endian_num)\n",
    "print(f'大端: {hex(big_endian_num)} -> 小端: {hex(little_endian_num)}')\n"
   ]
  },
  {
   "cell_type": "code",
   "execution_count": null,
   "metadata": {},
   "outputs": [],
   "source": [
    "# if len(s)!=len(t):\n",
    "#     return False\n",
    "s = \"anagram\"\n",
    "t = \"nagaram\"\n",
    "s_dic={}\n",
    "t_dic={}\n",
    "for i in range(len(s)):\n",
    "    if s[i] in s_dic.keys():\n",
    "        s_dic[s[i]]=s_dic[s[i]]+1\n",
    "    else:\n",
    "        s_dic[s[i]]=1\n",
    "    if t[i] in t_dic.keys():\n",
    "        t_dic[t[i]]=t_dic[t[i]]+1\n",
    "    else:\n",
    "        t_dic[t[i]]=1 "
   ]
  },
  {
   "cell_type": "code",
   "execution_count": null,
   "metadata": {},
   "outputs": [
    {
     "data": {
      "text/plain": [
       "[[-1, 0, 1], [-1, -1, 2]]"
      ]
     },
     "execution_count": 45,
     "metadata": {},
     "output_type": "execute_result"
    }
   ],
   "source": [
    "re={}\n",
    "res=[]\n",
    "nums = [-1,0,1,2,-1,-4]\n",
    "for i in range(len(nums)):\n",
    "    for j in range(i+1,len(nums)):\n",
    "        k=nums[i]+nums[j]\n",
    "        if k in re.keys():\n",
    "            re[k].append([i,j])\n",
    "        else:\n",
    "            re[k]=[]\n",
    "            re[k].append([i,j])\n",
    "for m in range(len(nums)):\n",
    "    if -nums[m] in re.keys():\n",
    "        for n in range(len(re[-nums[m]])):\n",
    "            if m not in re[-nums[m]][n]:\n",
    "                mid=re[-nums[m]][n][:]\n",
    "                mid.append(m)\n",
    "                res.append(mid)\n",
    "result=[]\n",
    "k=[]\n",
    "for i in range(len(res)):\n",
    "    for j in res[i]:\n",
    "        k.append(nums[j])\n",
    "    if sorted(k) not in result:\n",
    "        result.append(sorted(k))\n",
    "    k=[]\n",
    "result"
   ]
  },
  {
   "cell_type": "code",
   "execution_count": null,
   "metadata": {},
   "outputs": [
    {
     "name": "stdout",
     "output_type": "stream",
     "text": [
      "[0, 2, 1]\n",
      "[2, 0, 3]\n",
      "[1, 3, 0]\n"
     ]
    }
   ],
   "source": [
    "# 定义IP的数量和它们之间的连接\n",
    "ips = ['IP1', 'IP2', 'IP3']\n",
    "connections = {\n",
    "    ('IP1', 'IP2'): 2,\n",
    "    ('IP1', 'IP3'): 1,\n",
    "    ('IP2', 'IP3'): 3,\n",
    "}\n",
    "\n",
    "# 创建一个矩阵，大小足够容纳所有IP\n",
    "# 矩阵的初始值设为0\n",
    "max_ip_number = max([int(ip[2:]) for ip in ips])  # 假设IP的命名是IP1, IP2, ...\n",
    "matrix_size = max_ip_number \n",
    "soc_matrix = [[0 for _ in range(matrix_size)] for _ in range(matrix_size)]\n",
    "\n",
    "# 填充矩阵\n",
    "for (ip1, ip2), speed in connections.items():\n",
    "    # 将IP名称转换为数字（例如IP1转换为1）\n",
    "    ip1_number = int(ip1[2:])\n",
    "    ip2_number = int(ip2[2:])\n",
    "    \n",
    "    # 在矩阵中设置传输速度\n",
    "    soc_matrix[ip1_number - 1][ip2_number - 1] = speed\n",
    "    soc_matrix[ip2_number - 1][ip1_number - 1] = speed  # 假设连接是双向的\n",
    "\n",
    "# 输出矩阵\n",
    "for row in soc_matrix:\n",
    "    print(row)\n"
   ]
  },
  {
   "cell_type": "code",
   "execution_count": null,
   "metadata": {},
   "outputs": [
    {
     "data": {
      "text/plain": [
       "[[0, 2, 1, 0], [2, 0, 3, 0], [1, 3, 0, 0], [0, 0, 0, 0]]"
      ]
     },
     "execution_count": 2,
     "metadata": {},
     "output_type": "execute_result"
    }
   ],
   "source": [
    "soc_matrix"
   ]
  },
  {
   "cell_type": "code",
   "execution_count": null,
   "metadata": {},
   "outputs": [
    {
     "name": "stdout",
     "output_type": "stream",
     "text": [
      "[1, 2, 3]\n",
      "[4, 5, 6]\n",
      "[0, 0, 0]\n"
     ]
    }
   ],
   "source": [
    "def create_soc_matrix(ips):\n",
    "    # 计算矩阵的大小，使得矩阵为正方形\n",
    "    size = int(len(ips) ** 0.5)\n",
    "    if size * size < len(ips):\n",
    "        size += 1\n",
    "\n",
    "    # 初始化矩阵，用0填充\n",
    "    soc_matrix = [[0 for _ in range(size)] for _ in range(size)]\n",
    "\n",
    "    # 填充矩阵\n",
    "    for i, ip in enumerate(ips):\n",
    "        row, col = divmod(i, size)\n",
    "        soc_matrix[row][col] = ip\n",
    "\n",
    "    return soc_matrix\n",
    "\n",
    "# 定义IP列表\n",
    "ips = [1, 2, 3, 4, 5, 6]\n",
    "\n",
    "# 创建SoC矩阵\n",
    "soc_matrix = create_soc_matrix(ips)\n",
    "\n",
    "# 输出矩阵\n",
    "for row in soc_matrix:\n",
    "    print(row)\n"
   ]
  },
  {
   "cell_type": "code",
   "execution_count": null,
   "metadata": {},
   "outputs": [
    {
     "name": "stdout",
     "output_type": "stream",
     "text": [
      "[4, 0, 0]\n",
      "[1, 0, 6]\n",
      "[0, 5, 2]\n"
     ]
    }
   ],
   "source": [
    "import networkx as nx\n",
    "\n",
    "# 创建一个图\n",
    "G = nx.Graph()\n",
    "\n",
    "# 添加节点（IPs）到图中，这里假设有IP1, IP2, IP3, IP4, IP5, IP6\n",
    "ips = ['IP1', 'IP2', 'IP3', 'IP4', 'IP5', 'IP6']\n",
    "for ip in ips:\n",
    "    G.add_node(ip)\n",
    "\n",
    "# 添加边（传输速度）到图中，这里假设边是双向的，速度为1, 2, 3, 4, 5, 6\n",
    "edges = [('IP1', 'IP2', 1), ('IP1', 'IP3', 2), ('IP2', 'IP3', 3), ('IP3', 'IP4', 4), ('IP4', 'IP5', 5), ('IP5', 'IP6', 6)]\n",
    "for src, dest, speed in edges:\n",
    "    G.add_edge(src, dest, weight=speed)\n",
    "\n",
    "# 获取节点的布局，这里使用spring layout作为示例\n",
    "layout = nx.spring_layout(G)\n",
    "\n",
    "# 创建一个矩阵来表示SoC的布局\n",
    "# 矩阵的大小为节点数量的平方根的向上取整\n",
    "matrix_size = int(nx.number_of_nodes(G) ** 0.5) + 1\n",
    "soc_matrix = [[0 for _ in range(matrix_size)] for _ in range(matrix_size)]\n",
    "\n",
    "# 填充矩阵\n",
    "for ip, (x, y) in layout.items():\n",
    "    # 将IP名称转换为数字（例如IP1转换为1）\n",
    "    ip_number = int(ip[2:]) - 1\n",
    "    \n",
    "    # 计算矩阵中的行和列\n",
    "    row, col = int(y * matrix_size), int(x * matrix_size)\n",
    "    \n",
    "    # 如果行或列超出了矩阵的范围，则进行调整\n",
    "    row = min(row, matrix_size - 1)\n",
    "    col = min(col, matrix_size - 1)\n",
    "    \n",
    "    # 在矩阵中设置IP的编号\n",
    "    soc_matrix[row][col] = ip_number + 1\n",
    "\n",
    "# 输出矩阵\n",
    "for row in soc_matrix:\n",
    "    print(row)\n"
   ]
  },
  {
   "cell_type": "markdown",
   "metadata": {},
   "source": [
    "# chiplet高可重用性"
   ]
  },
  {
   "cell_type": "code",
   "execution_count": 2,
   "metadata": {},
   "outputs": [
    {
     "name": "stdout",
     "output_type": "stream",
     "text": [
      "Most reusable submatrix:\n",
      "[[3 2]\n",
      " [2 1]]\n",
      "Reusability: 4\n"
     ]
    },
    {
     "data": {
      "text/plain": [
       "1.0"
      ]
     },
     "execution_count": 2,
     "metadata": {},
     "output_type": "execute_result"
    }
   ],
   "source": [
    "import numpy as np\n",
    "\n",
    "# 给定的矩阵\n",
    "matrix = [\n",
    "    [3, 2, 2, 3],\n",
    "    [2, 1, 1, 2],\n",
    "    [2, 1, 1, 2],\n",
    "    [3, 2, 2, 3]\n",
    "]\n",
    "def Reusability_calculation(matrix,submatrix_row,submatrix_col):\n",
    "\n",
    "    # 将矩阵转换为numpy数组\n",
    "    matrix_np = np.array(matrix)\n",
    "\n",
    "    # 初始化最大重用性和最佳子矩阵\n",
    "    max_reusability = 0\n",
    "    best_submatrix = None\n",
    "\n",
    "    # 遍历矩阵中的每个位置，作为子矩阵的左上角\n",
    "    for row in range(len(matrix) - submatrix_row + 1):\n",
    "        for col in range(len(matrix[0]) - submatrix_col + 1):\n",
    "            # 提取子矩阵\n",
    "            submatrix = matrix_np[row:row+submatrix_row, col:col+submatrix_col]\n",
    "            \n",
    "            # 计算子矩阵在矩阵中的出现次数\n",
    "            count = 0\n",
    "            for i in range(len(matrix) - submatrix_row + 1):\n",
    "                for j in range(len(matrix[0]) - submatrix_col + 1):\n",
    "                    # 比较当前块和子矩阵\n",
    "                    if np.all(matrix_np[i:i+submatrix_row, j:j+submatrix_col] == submatrix):\n",
    "                        count += 1\n",
    "                    # 比较当前块和子矩阵的旋转版本\n",
    "                    if np.all(matrix_np[i:i+submatrix_row, j:j+submatrix_col] == np.rot90(submatrix, k=1)):\n",
    "                        count += 1\n",
    "                    if np.array_equal(np.rot90(submatrix,k=1),np.rot90(submatrix,k=3))!=True:\n",
    "                        if np.all(matrix_np[i:i+submatrix_row, j:j+submatrix_col] == np.rot90(submatrix, k=2)):\n",
    "                            count += 1\n",
    "                        if np.all(matrix_np[i:i+submatrix_row, j:j+submatrix_col] == np.rot90(submatrix, k=3)):\n",
    "                            count += 1\n",
    "                    # 比较当前块和子矩阵的翻转版本\n",
    "                    # if np.all(matrix_np[i:i+submatrix_row, j:j+submatrix_col] == np.fliplr(submatrix)):\n",
    "                    #     count += 1\n",
    "                    # if np.all(matrix_np[i:i+submatrix_row, j:j+submatrix_col] == np.flipud(submatrix)):\n",
    "                    #     count += 1\n",
    "            \n",
    "            # 如果出现次数大于当前最大重用性，则更新最大重用性和最佳子矩阵\n",
    "            if count > max_reusability:\n",
    "                max_reusability = count\n",
    "                best_submatrix = submatrix\n",
    "\n",
    "    # 输出最大重用性的子图\n",
    "    print(\"Most reusable submatrix:\")\n",
    "    print(best_submatrix)\n",
    "    print(\"Reusability:\", max_reusability)\n",
    "    return best_submatrix,max_reusability\n",
    "def Coverage(matrix,submatrix,reusability):\n",
    "    matrix_area=len(matrix)*len(matrix[0])\n",
    "    submatrix_area=len(submatrix)*len(submatrix[0])*reusability\n",
    "    cover=submatrix_area/matrix_area\n",
    "    return cover\n",
    "submatrix,reusability=Reusability_calculation(matrix,2,2)\n",
    "Coverage(matrix,submatrix,reusability)"
   ]
  },
  {
   "cell_type": "code",
   "execution_count": 3,
   "metadata": {},
   "outputs": [
    {
     "name": "stdout",
     "output_type": "stream",
     "text": [
      "Most reusable submatrix:\n",
      "[[3]\n",
      " [2]]\n",
      "Reusability: 4\n"
     ]
    },
    {
     "data": {
      "text/plain": [
       "(array([[3],\n",
       "        [2]]),\n",
       " 4)"
      ]
     },
     "execution_count": 3,
     "metadata": {},
     "output_type": "execute_result"
    }
   ],
   "source": [
    "Reusability_calculation(matrix,2,1)"
   ]
  },
  {
   "cell_type": "code",
   "execution_count": null,
   "metadata": {},
   "outputs": [
    {
     "name": "stdout",
     "output_type": "stream",
     "text": [
      "[[2 3]\n",
      " [2 3]]\n",
      "[[2 3]\n",
      " [2 3]]\n",
      "[[3 3]\n",
      " [2 2]]\n",
      "[[3 2]\n",
      " [3 2]]\n"
     ]
    }
   ],
   "source": [
    "a=np.matrix([[2,2],[3,3]])\n",
    "print(a.T)\n",
    "print(np.rot90(a, k=1))\n",
    "print(np.rot90(a, k=2))\n",
    "print(np.rot90(a, k=3))\n"
   ]
  },
  {
   "cell_type": "code",
   "execution_count": 16,
   "metadata": {},
   "outputs": [],
   "source": [
    "def Irregular_compare(matrix1,matrix2):\n",
    "    for i in range(len(matrix1)):\n",
    "        for j in range(len(matrix1[0])):\n",
    "            if matrix2[i][j]==0:\n",
    "                continue\n",
    "            if matrix2[i][j]!=0 and matrix1[i][j]!=matrix2[i][j]:\n",
    "                return 0\n",
    "    return 1\n",
    "# 选择的子模板的ip数不应该大于模板图ip总数的一半\n",
    "# 子模版的ip数分为多个数的和，不能超过模板的行列宽\n",
    "def partition_number(n, k):\n",
    "    def backtrack(remaining, parts):\n",
    "        if len(parts) == k:\n",
    "            if remaining == 0:\n",
    "                result.append(parts[:])\n",
    "            return\n",
    "        for i in range(1, remaining + 1):\n",
    "            if len(parts) + 1 <= k:\n",
    "                parts.append(i)\n",
    "                backtrack(remaining - i, parts)\n",
    "                parts.pop()\n",
    "    \n",
    "    result = []\n",
    "    backtrack(n, [])\n",
    "    return result\n",
    "def sum_partition(target,split_thresold,number_thresold):\n",
    "    sum_p=[]\n",
    "    for i in range(2,split_thresold+1):\n",
    "        sum_p.append(partition_number(target,i))\n",
    "    # 使用嵌套循环遍历列表，并根据条件删除子列表\n",
    "    for sublist in sum_p[:]:  # 创建 list1 的副本以避免在遍历时修改列表\n",
    "        for subsublist in sublist[:]:  # 创建 sublist 的副本以避免在遍历时修改列表\n",
    "            if any(element > number_thresold for element in subsublist):\n",
    "                sublist.remove(subsublist)\n",
    "                continue  # 删除子列表后跳出内层循环\n",
    "    sum_p = [sublist for sublist in sum_p if sublist]\n",
    "    for sublist in sum_p[:]:\n",
    "        for subsublist in sublist[:]:\n",
    "            if all_elements_same(subsublist):\n",
    "                sublist.remove(subsublist)\n",
    "                continue\n",
    "    return sum_p\n",
    "# 判断列表是否全是一样的元素\n",
    "def all_elements_same(lst):\n",
    "    # 检查列表是否为空\n",
    "    if not lst:\n",
    "        return False\n",
    "    # 检查列表中的每个元素是否都与第一个元素相等\n",
    "    return all(element == lst[0] for element in lst)       "
   ]
  },
  {
   "cell_type": "code",
   "execution_count": 5,
   "metadata": {},
   "outputs": [
    {
     "name": "stdout",
     "output_type": "stream",
     "text": [
      "[1, 1, 1, 2]\n",
      "[1, 1, 2, 1]\n",
      "[1, 2, 1, 1]\n",
      "[2, 1, 1, 1]\n"
     ]
    }
   ],
   "source": [
    "m1=[[3,2],[2,1]]\n",
    "m2=[[3,2],[2,0]]\n",
    "Irregular_compare(m1,m2)\n",
    "\n",
    "# Example usage:\n",
    "n = 5\n",
    "k = 4\n",
    "partitions = partition_number(n, k)\n",
    "for partition in partitions:\n",
    "    print(partition)"
   ]
  },
  {
   "cell_type": "code",
   "execution_count": 14,
   "metadata": {},
   "outputs": [
    {
     "name": "stdout",
     "output_type": "stream",
     "text": [
      "[[[1, 2, 2], [2, 1, 2], [2, 2, 1]], [[1, 1, 1, 2], [1, 1, 2, 1], [1, 2, 1, 1], [2, 1, 1, 1]]]\n"
     ]
    }
   ],
   "source": [
    "# 假设 list1 是包含嵌套子列表的列表\n",
    "list1 = [[[1, 4], [2, 3], [3, 2], [4, 1]],\n",
    "         [[1, 1, 3], [1, 2, 2], [1, 3, 1], [2, 1, 2], [2, 2, 1], [3, 1, 1]],\n",
    "         [[1, 1, 1, 2], [1, 1, 2, 1], [1, 2, 1, 1], [2, 1, 1, 1]]]\n",
    "for sublist in list1[:]:  # 创建 list1 的副本以避免在遍历时修改列表\n",
    "    for subsublist in sublist[:]:  # 创建 sublist 的副本以避免在遍历时修改列表\n",
    "        if any(element > 2 for element in subsublist):\n",
    "            sublist.remove(subsublist)\n",
    "            continue  # 删除子列表后跳出内层循环\n",
    "\n",
    "list1 = [sublist for sublist in list1 if sublist]\n",
    "\n",
    "print(list1)\n"
   ]
  },
  {
   "cell_type": "code",
   "execution_count": 18,
   "metadata": {},
   "outputs": [
    {
     "name": "stdout",
     "output_type": "stream",
     "text": [
      "True\n",
      "False\n"
     ]
    }
   ],
   "source": [
    "\n",
    "\n",
    "# 示例\n",
    "my_list = [1, 1, 1, 1, 1]\n",
    "print(all_elements_same(my_list))  # 输出: True\n",
    "\n",
    "my_list = [1, 1, 2, 1, 1]\n",
    "print(all_elements_same(my_list))  # 输出: False\n"
   ]
  },
  {
   "cell_type": "code",
   "execution_count": 19,
   "metadata": {},
   "outputs": [
    {
     "name": "stdout",
     "output_type": "stream",
     "text": [
      "[[[3, 2], [4, 1]], [[2, 1, 2], [2, 2, 1], [3, 1, 1]], [[1, 1, 2, 1], [1, 2, 1, 1], [2, 1, 1, 1]]]\n"
     ]
    }
   ],
   "source": [
    "list2=[[[4, 4], [3, 3], [3, 2], [4, 1]],\n",
    " [[1, 1, 1], [2, 2, 2], [3, 3, 3], [2, 1, 2], [2, 2, 1], [3, 1, 1]],\n",
    " [[1, 1, 1, 1], [1, 1, 2, 1], [1, 2, 1, 1], [2, 1, 1, 1]]]\n",
    "\n",
    "for sublist in list2[:]:\n",
    "    for subsublist in sublist[:]:\n",
    "        if all_elements_same(subsublist):\n",
    "            sublist.remove(subsublist)\n",
    "            continue\n",
    "print(list2)"
   ]
  },
  {
   "cell_type": "code",
   "execution_count": 26,
   "metadata": {},
   "outputs": [],
   "source": [
    "# 假设 matrix 和 list1 已经被定义\n",
    "matrix = [\n",
    "    [3, 2, 2, 3],\n",
    "    [2, 1, 1, 2],\n",
    "    [2, 1, 1, 2],\n",
    "    [3, 2, 2, 3]\n",
    "]\n",
    "list1 = [[[1, 4], [2, 3], [3, 2], [4, 1]],\n",
    "         [[1, 1, 3], [1, 2, 2], [1, 3, 1], [2, 1, 2], [2, 2, 1], [3, 1, 1]],\n",
    "         [[1, 1, 1, 2], [1, 1, 2, 1], [1, 2, 1, 1], [2, 1, 1, 1]]]\n",
    "for sublist in list1:\n",
    "    for subsublist in sublist:\n",
    "        res=[[0]*max(subsublist)]*len(subsublist)\n",
    "        for i in range(len(subsublist)):\n",
    "            \n",
    "            "
   ]
  },
  {
   "cell_type": "code",
   "execution_count": 35,
   "metadata": {},
   "outputs": [
    {
     "data": {
      "text/plain": [
       "[[3, 2, 2, 3], [3, 2, 2, 3], [3, 2, 2, 3], [3, 2, 2, 3]]"
      ]
     },
     "execution_count": 35,
     "metadata": {},
     "output_type": "execute_result"
    }
   ],
   "source": [
    "matrix = [\n",
    "    [3, 2, 2, 3],\n",
    "    [2, 1, 1, 2],\n",
    "    [2, 1, 1, 2],\n",
    "    [3, 2, 2, 3]\n",
    "]\n",
    "list1 = [[1, 4], [2, 3], [3, 2], [4, 1]]\n",
    "res=[]\n",
    "def Generate_initial_matrix(row,col):\n",
    "    res=[[0]*row]*col\n",
    "    return res\n",
    "# list的长度要大于row_wid\n",
    "def extract_elements(list,ip_number,row_wid):\n",
    "    res=[]\n",
    "    for i in range(row_wid):\n",
    "        temp=[0]*row_wid\n",
    "        for j in range(ip_number):\n",
    "            if i+ip_number<=len(list):\n",
    "                temp[i:i+ip_number]=list[i:i+ip_number]\n",
    "            else:\n",
    "                break\n",
    "            res.append(temp)\n",
    "    return res\n",
    "def Subgraph_extraction(matrix,list):\n",
    "    \n",
    "\n",
    "extract_elements(matrix[0],list1[0][1],list1[0][1])"
   ]
  },
  {
   "cell_type": "code",
   "execution_count": null,
   "metadata": {},
   "outputs": [],
   "source": []
  }
 ],
 "metadata": {
  "kernelspec": {
   "display_name": "pytorch",
   "language": "python",
   "name": "python3"
  },
  "language_info": {
   "codemirror_mode": {
    "name": "ipython",
    "version": 3
   },
   "file_extension": ".py",
   "mimetype": "text/x-python",
   "name": "python",
   "nbconvert_exporter": "python",
   "pygments_lexer": "ipython3",
   "version": "3.8.18"
  }
 },
 "nbformat": 4,
 "nbformat_minor": 2
}
